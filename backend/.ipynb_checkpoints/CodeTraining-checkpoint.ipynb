{
 "cells": [
  {
   "cell_type": "markdown",
   "id": "c2d40fed-ea38-4a10-bc4d-fe82210ea8fe",
   "metadata": {},
   "source": [
    "## Veri Setinin Yüklenmesi ve İncelenmesi"
   ]
  },
  {
   "cell_type": "code",
   "execution_count": 1,
   "id": "2c823dd0-8fce-4d30-9012-40bb33613724",
   "metadata": {},
   "outputs": [
    {
     "name": "stdout",
     "output_type": "stream",
     "text": [
      "                               description                     code\n",
      "0         Pandas kütüphanesini içe aktarma      import pandas as pd\n",
      "1                 Veri çerçevesi oluşturma  df = pd.DataFrame(data)\n",
      "2  Veri çerçevesini csv dosyasına kaydetme  df.to_csv('output.csv')\n"
     ]
    }
   ],
   "source": [
    "import pandas as pd\n",
    "\n",
    "# Veri setini yükle\n",
    "df = pd.read_csv('code_data.csv')\n",
    "\n",
    "# Veri setini incele\n",
    "print(df.head())"
   ]
  },
  {
   "cell_type": "markdown",
   "id": "33d78588-9822-4566-a659-65156ddd2687",
   "metadata": {},
   "source": [
    "## Doğal Dil İşleme (NLP) Hazırlıkları"
   ]
  },
  {
   "cell_type": "code",
   "execution_count": 2,
   "id": "44e1b9fb-3a52-41e5-9f3a-b9f40c35afdf",
   "metadata": {},
   "outputs": [
    {
     "name": "stdout",
     "output_type": "stream",
     "text": [
      "['Pandas', 'kütüphanesini', 'içe', 'aktarma']\n"
     ]
    }
   ],
   "source": [
    "import nltk\n",
    "from nltk.corpus import stopwords\n",
    "from nltk.tokenize import word_tokenize\n",
    "\n",
    "# Örnek bir açıklamayı tokenize etme\n",
    "example_text = df['description'][0]\n",
    "tokens = word_tokenize(example_text)\n",
    "filtered_tokens = [word for word in tokens if word.lower() not in stopwords.words('english')]\n",
    "\n",
    "print(filtered_tokens)"
   ]
  },
  {
   "cell_type": "markdown",
   "id": "6f9a3739-ca5f-4b3a-9bb0-9faac272a55f",
   "metadata": {},
   "source": [
    "## Makine Öğrenmesi Modeli Eğitimi"
   ]
  },
  {
   "cell_type": "code",
   "execution_count": 3,
   "id": "c1d6c978-321a-4f23-a1b0-0124c1683ec1",
   "metadata": {},
   "outputs": [
    {
     "name": "stdout",
     "output_type": "stream",
     "text": [
      "Model Skoru: 0.0\n"
     ]
    }
   ],
   "source": [
    "from sklearn.model_selection import train_test_split\n",
    "from sklearn.feature_extraction.text import TfidfVectorizer\n",
    "from sklearn.naive_bayes import MultinomialNB\n",
    "from sklearn.pipeline import make_pipeline\n",
    "\n",
    "# Özellik ve hedef değişkenleri ayırma\n",
    "X = df['description']\n",
    "y = df['code']\n",
    "\n",
    "# Eğitim ve test setlerine ayırma\n",
    "X_train, X_test, y_train, y_test = train_test_split(X, y, test_size=0.2, random_state=42)\n",
    "\n",
    "# TF-IDF vektörizer ile Multinomial Naive Bayes modelini pipeline içinde kullanma\n",
    "model = make_pipeline(TfidfVectorizer(), MultinomialNB())\n",
    "\n",
    "# Modeli eğitme\n",
    "model.fit(X_train, y_train)\n",
    "\n",
    "# Modelin performansını değerlendirme\n",
    "print(\"Model Skoru:\", model.score(X_test, y_test))"
   ]
  },
  {
   "cell_type": "markdown",
   "id": "d9d4013c-6b87-4863-9a2d-273ad5442c6f",
   "metadata": {},
   "source": [
    "# Yeni Kod Üretimi"
   ]
  },
  {
   "cell_type": "code",
   "execution_count": 4,
   "id": "a7ef9249-9646-484a-8a0b-17fd31ea47a2",
   "metadata": {},
   "outputs": [
    {
     "name": "stdout",
     "output_type": "stream",
     "text": [
      "Tahmin Edilen Kod: df.to_csv('output.csv')\n"
     ]
    }
   ],
   "source": [
    "# Yeni bir açıklama\n",
    "new_description = \"Veri çerçevesini csv dosyasına kaydetme\"\n",
    "\n",
    "# Tahmin edilen kod\n",
    "predicted_code = model.predict([new_description])\n",
    "print(\"Tahmin Edilen Kod:\", predicted_code[0])"
   ]
  },
  {
   "cell_type": "code",
   "execution_count": null,
   "id": "1cb3c171-d112-439e-80b5-e7209a36eecb",
   "metadata": {},
   "outputs": [],
   "source": []
  }
 ],
 "metadata": {
  "kernelspec": {
   "display_name": "Python 3 (ipykernel)",
   "language": "python",
   "name": "python3"
  },
  "language_info": {
   "codemirror_mode": {
    "name": "ipython",
    "version": 3
   },
   "file_extension": ".py",
   "mimetype": "text/x-python",
   "name": "python",
   "nbconvert_exporter": "python",
   "pygments_lexer": "ipython3",
   "version": "3.11.7"
  }
 },
 "nbformat": 4,
 "nbformat_minor": 5
}
